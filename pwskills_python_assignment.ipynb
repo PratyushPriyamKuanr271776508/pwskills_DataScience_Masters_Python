{
  "nbformat": 4,
  "nbformat_minor": 0,
  "metadata": {
    "colab": {
      "provenance": [],
      "authorship_tag": "ABX9TyOsOMF5hmDrtk0cZ6p1dq5r",
      "include_colab_link": true
    },
    "kernelspec": {
      "name": "python3",
      "display_name": "Python 3"
    },
    "language_info": {
      "name": "python"
    }
  },
  "cells": [
    {
      "cell_type": "markdown",
      "metadata": {
        "id": "view-in-github",
        "colab_type": "text"
      },
      "source": [
        "<a href=\"https://colab.research.google.com/github/PratyushPriyamKuanr271776508/pwskills_DataScience_Masters_Python/blob/main/pwskills_python_assignment.ipynb\" target=\"_parent\"><img src=\"https://colab.research.google.com/assets/colab-badge.svg\" alt=\"Open In Colab\"/></a>"
      ]
    },
    {
      "cell_type": "code",
      "execution_count": 1,
      "metadata": {
        "colab": {
          "base_uri": "https://localhost:8080/"
        },
        "id": "7H25Al8dDj2S",
        "outputId": "09fddaf0-5326-431f-f873-be4edae0d68b"
      },
      "outputs": [
        {
          "output_type": "stream",
          "name": "stdout",
          "text": [
            "Q1. Tuples are ordered, allow duplicate values, and are immutable (cannot be changed after creation).\n",
            "\n",
            "Q2. Tuple methods: count() and index()\n",
            "Count of 2: 2\n",
            "Index of 3: 2\n",
            "Reason: Tuples have only two methods because they are immutable.\n",
            "\n",
            "Q3. Sets do not allow duplicate items.\n",
            "Unique items from list: {1, 2, 3, 4} \n",
            "\n",
            "Q4. union() returns a new set. update() modifies the original set.\n",
            "a.union(b): {1, 2, 3, 4, 5}\n",
            "a after update(b): {1, 2, 3, 4, 5} \n",
            "\n",
            "Q5. Dictionary is a collection of key-value pairs. In Python 3.7+, it's ordered.\n",
            "Example dictionary: {'language': 'Python', 'course': 'Data Science'} \n",
            "\n",
            "Q6. Yes, nested dictionaries are possible.\n",
            "Nested dictionary: {'student': {'name': 'Alice', 'age': 22}, 'course': {'name': 'Data Science', 'duration': '6 months'}} \n",
            "\n",
            "Q7. setdefault() method example:\n",
            "Dictionary after setdefault: {'language': 'Python', 'course': 'Data Science Masters', 'topics': ['Python', 'Machine Learning', 'Deep Learning']} \n",
            "\n",
            "Q8. Dictionary view objects:\n",
            "Keys: dict_keys(['Sport', 'Teams'])\n",
            "Values: dict_values(['Cricket', ['India', 'Australia', 'England', 'South Africa', 'Sri Lanka', 'New Zealand']])\n",
            "Items: dict_items([('Sport', 'Cricket'), ('Teams', ['India', 'Australia', 'England', 'South Africa', 'Sri Lanka', 'New Zealand'])])\n"
          ]
        }
      ],
      "source": [
        "# Q1. Characteristics of Tuples\n",
        "print(\"Q1. Tuples are ordered, allow duplicate values, and are immutable (cannot be changed after creation).\\n\")\n",
        "\n",
        "# Q2. Tuple Methods\n",
        "print(\"Q2. Tuple methods: count() and index()\")\n",
        "t = (1, 2, 3, 2, 4)\n",
        "print(\"Count of 2:\", t.count(2))  # Output: 2\n",
        "print(\"Index of 3:\", t.index(3))  # Output: 2\n",
        "print(\"Reason: Tuples have only two methods because they are immutable.\\n\")\n",
        "\n",
        "# Q3. Collection datatype with no duplicates: set\n",
        "print(\"Q3. Sets do not allow duplicate items.\")\n",
        "lst = [1, 1, 1, 2, 1, 3, 1, 4, 2, 1, 2, 2, 2, 3, 2, 4, 3, 1, 3, 2, 3, 3, 3, 4, 4, 1, 4, 2, 4, 3, 4, 4]\n",
        "unique_items = set(lst)\n",
        "print(\"Unique items from list:\", unique_items, \"\\n\")\n",
        "\n",
        "# Q4. Difference between union() and update()\n",
        "print(\"Q4. union() returns a new set. update() modifies the original set.\")\n",
        "a = {1, 2, 3}\n",
        "b = {3, 4, 5}\n",
        "print(\"a.union(b):\", a.union(b))  # New set\n",
        "a.update(b)\n",
        "print(\"a after update(b):\", a, \"\\n\")  # a modified\n",
        "\n",
        "# Q5. What is a dictionary?\n",
        "print(\"Q5. Dictionary is a collection of key-value pairs. In Python 3.7+, it's ordered.\")\n",
        "my_dict = {'language': 'Python', 'course': 'Data Science'}\n",
        "print(\"Example dictionary:\", my_dict, \"\\n\")\n",
        "\n",
        "# Q6. Nested dictionary example\n",
        "print(\"Q6. Yes, nested dictionaries are possible.\")\n",
        "nested_dict = {\n",
        "    'student': {'name': 'Alice', 'age': 22},\n",
        "    'course': {'name': 'Data Science', 'duration': '6 months'}\n",
        "}\n",
        "print(\"Nested dictionary:\", nested_dict, \"\\n\")\n",
        "\n",
        "# Q7. Using setdefault() method\n",
        "print(\"Q7. setdefault() method example:\")\n",
        "dict1 = {'language': 'Python', 'course': 'Data Science Masters'}\n",
        "topics = ['Python', 'Machine Learning', 'Deep Learning']\n",
        "dict1.setdefault('topics', topics)\n",
        "print(\"Dictionary after setdefault:\", dict1, \"\\n\")\n",
        "\n",
        "# Q8. Dictionary view objects: keys(), values(), items()\n",
        "print(\"Q8. Dictionary view objects:\")\n",
        "dict2 = {\n",
        "    'Sport': 'Cricket',\n",
        "    'Teams': ['India', 'Australia', 'England', 'South Africa', 'Sri Lanka', 'New Zealand']\n",
        "}\n",
        "print(\"Keys:\", dict2.keys())\n",
        "print(\"Values:\", dict2.values())\n",
        "print(\"Items:\", dict2.items())\n"
      ]
    },
    {
      "cell_type": "code",
      "source": [],
      "metadata": {
        "id": "Qyi7q8TOeIsq"
      },
      "execution_count": null,
      "outputs": []
    }
  ]
}